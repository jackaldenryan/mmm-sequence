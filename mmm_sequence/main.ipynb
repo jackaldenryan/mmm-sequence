{
 "cells": [
  {
   "cell_type": "code",
   "execution_count": 9,
   "metadata": {},
   "outputs": [],
   "source": [
    "from notebook_helpers import *"
   ]
  },
  {
   "cell_type": "code",
   "execution_count": null,
   "metadata": {},
   "outputs": [],
   "source": [
    "end_values = (8,4,4)\n",
    "num_steps = 4\n",
    "allow_negatives = False\n",
    "display_in_browser = False\n",
    "\n",
    "tree = visualize_backwards_tree(end=end_values,\n",
    "                              n=num_steps,\n",
    "                              negatives=allow_negatives,\n",
    "                              display_in_browser=display_in_browser)\n"
   ]
  },
  {
   "cell_type": "code",
   "execution_count": null,
   "metadata": {},
   "outputs": [],
   "source": [
    "init = (5, 10, 15)\n",
    "max_points = 100\n",
    "conv_data_only = False\n",
    "\n",
    "sequence = plot_sequence(init, max_points=max_points, conv_data_only=conv_data_only)"
   ]
  },
  {
   "cell_type": "code",
   "execution_count": null,
   "metadata": {},
   "outputs": [],
   "source": [
    "category = 'random'\n",
    "num_sequences = 5\n",
    "max_value = 100\n",
    "\n",
    "min_a = 0\n",
    "max_a = 10\n",
    "min_d = 0\n",
    "max_d = 10\n",
    "\n",
    "min_x = 0\n",
    "max_x = 5\n",
    "min_y = 0\n",
    "max_y = 5\n",
    "min_z = 0\n",
    "max_z = 5\n",
    "\n",
    "manual_inits = [(1,2,3), (4,5,6), (7,8,9)]\n",
    "\n",
    "sequences = plot_sequences(inits_category=category,\n",
    "                         n=num_sequences,\n",
    "                         max_val=max_value,\n",
    "                         min_a=min_a, max_a=max_a,\n",
    "                         min_d=min_d, max_d=max_d,\n",
    "                         min_x=min_x, max_x=max_x,\n",
    "                         min_y=min_y, max_y=max_y,\n",
    "                         min_z=min_z, max_z=max_z,\n",
    "                         inits=manual_inits)"
   ]
  },
  {
   "cell_type": "code",
   "execution_count": null,
   "metadata": {},
   "outputs": [],
   "source": [
    "plot_type = 'time'\n",
    "min_a = 0\n",
    "max_a = 50\n",
    "min_d = 0\n",
    "max_d = 50\n",
    "\n",
    "plot_convergence_3d(plot_type=plot_type,\n",
    "                   min_a=min_a, max_a=max_a,\n",
    "                   min_d=min_d, max_d=max_d)"
   ]
  },
  {
   "cell_type": "code",
   "execution_count": null,
   "metadata": {},
   "outputs": [],
   "source": [
    "plot_type = 'time'\n",
    "vary_param = 'a'\n",
    "min_vary = 0\n",
    "max_vary = 50\n",
    "fixed_val = 25\n",
    "\n",
    "convergence_data = plot_convergence_2d(plot_type=plot_type,\n",
    "                                     vary_param=vary_param,\n",
    "                                     min_vary=min_vary,\n",
    "                                     max_vary=max_vary,\n",
    "                                     fixed_val=fixed_val)"
   ]
  },
  {
   "cell_type": "code",
   "execution_count": null,
   "metadata": {},
   "outputs": [],
   "source": [
    "sequence_function = 'primes'\n",
    "plot_sequences = True\n",
    "plot_values = True\n",
    "plot_times = True\n",
    "num_points = 50\n",
    "extra_args = {}\n",
    "\n",
    "seqs, conv_vals, conv_times = analyze_seed_sequence(seq_func=sequence_function,\n",
    "                                                  plot_seqs=plot_sequences,\n",
    "                                                  plot_values=plot_values,\n",
    "                                                  plot_times=plot_times,\n",
    "                                                  n=num_points,\n",
    "                                                  **extra_args)"
   ]
  }
 ],
 "metadata": {
  "kernelspec": {
   "display_name": "venv",
   "language": "python",
   "name": "python3"
  },
  "language_info": {
   "codemirror_mode": {
    "name": "ipython",
    "version": 3
   },
   "file_extension": ".py",
   "mimetype": "text/x-python",
   "name": "python",
   "nbconvert_exporter": "python",
   "pygments_lexer": "ipython3",
   "version": "3.11.11"
  }
 },
 "nbformat": 4,
 "nbformat_minor": 2
}
